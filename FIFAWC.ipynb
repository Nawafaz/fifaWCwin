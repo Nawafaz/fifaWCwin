{
 "cells": [
  {
   "cell_type": "code",
   "execution_count": 1,
   "id": "6f963492",
   "metadata": {},
   "outputs": [
    {
     "name": "stdout",
     "output_type": "stream",
     "text": [
      "Requirement already satisfied: chardet in c:\\users\\asus\\anaconda3\\lib\\site-packages (4.0.0)\n"
     ]
    }
   ],
   "source": [
    "!pip install chardet\n",
    "##importing useful libraries\n",
    "import pandas as pd\n",
    "import numpy as np\n",
    "import chardet"
   ]
  },
  {
   "cell_type": "code",
   "execution_count": 3,
   "id": "9d4f4b20",
   "metadata": {},
   "outputs": [],
   "source": [
    "##Reading the file\n",
    "with open(\"FIFA World Cup Award Winner 1930-2022.csv\",'rb') as f:\n",
    "    result = chardet.detect(f.read())\n",
    "    \n",
    "df=pd.read_csv(\"FIFA World Cup Award Winner 1930-2022.csv\",encoding = result[\"encoding\"])"
   ]
  },
  {
   "cell_type": "code",
   "execution_count": 4,
   "id": "6a060591",
   "metadata": {},
   "outputs": [
    {
     "data": {
      "text/html": [
       "<div>\n",
       "<style scoped>\n",
       "    .dataframe tbody tr th:only-of-type {\n",
       "        vertical-align: middle;\n",
       "    }\n",
       "\n",
       "    .dataframe tbody tr th {\n",
       "        vertical-align: top;\n",
       "    }\n",
       "\n",
       "    .dataframe thead th {\n",
       "        text-align: right;\n",
       "    }\n",
       "</style>\n",
       "<table border=\"1\" class=\"dataframe\">\n",
       "  <thead>\n",
       "    <tr style=\"text-align: right;\">\n",
       "      <th></th>\n",
       "      <th>Key ID</th>\n",
       "      <th>Tournament Id</th>\n",
       "      <th>Tournament Name</th>\n",
       "      <th>Award Id</th>\n",
       "      <th>Award Name</th>\n",
       "      <th>Shared</th>\n",
       "      <th>Player Id</th>\n",
       "      <th>Family Name</th>\n",
       "      <th>Give Name</th>\n",
       "      <th>Team Id</th>\n",
       "      <th>Team Name</th>\n",
       "      <th>Team Code</th>\n",
       "    </tr>\n",
       "  </thead>\n",
       "  <tbody>\n",
       "    <tr>\n",
       "      <th>0</th>\n",
       "      <td>1</td>\n",
       "      <td>WC-1930</td>\n",
       "      <td>1930 FIFA World Cup</td>\n",
       "      <td>A-4</td>\n",
       "      <td>Golden Boot</td>\n",
       "      <td>0</td>\n",
       "      <td>P-01708</td>\n",
       "      <td>Stábile</td>\n",
       "      <td>Guillermo</td>\n",
       "      <td>T-03</td>\n",
       "      <td>Argentina</td>\n",
       "      <td>ARG</td>\n",
       "    </tr>\n",
       "    <tr>\n",
       "      <th>1</th>\n",
       "      <td>2</td>\n",
       "      <td>WC-1930</td>\n",
       "      <td>1930 FIFA World Cup</td>\n",
       "      <td>A-5</td>\n",
       "      <td>Silver Boot</td>\n",
       "      <td>0</td>\n",
       "      <td>P-06624</td>\n",
       "      <td>Cea</td>\n",
       "      <td>Pedro</td>\n",
       "      <td>T-81</td>\n",
       "      <td>Uruguay</td>\n",
       "      <td>URY</td>\n",
       "    </tr>\n",
       "    <tr>\n",
       "      <th>2</th>\n",
       "      <td>3</td>\n",
       "      <td>WC-1930</td>\n",
       "      <td>1930 FIFA World Cup</td>\n",
       "      <td>A-6</td>\n",
       "      <td>Bronze Boot</td>\n",
       "      <td>0</td>\n",
       "      <td>P-08936</td>\n",
       "      <td>Patenaude</td>\n",
       "      <td>Bert</td>\n",
       "      <td>T-80</td>\n",
       "      <td>United States</td>\n",
       "      <td>USA</td>\n",
       "    </tr>\n",
       "    <tr>\n",
       "      <th>3</th>\n",
       "      <td>4</td>\n",
       "      <td>WC-1934</td>\n",
       "      <td>1934 FIFA World Cup</td>\n",
       "      <td>A-4</td>\n",
       "      <td>Golden Boot</td>\n",
       "      <td>0</td>\n",
       "      <td>P-03976</td>\n",
       "      <td>Nejedlý</td>\n",
       "      <td>Old?ich</td>\n",
       "      <td>T-20</td>\n",
       "      <td>Czechoslovakia</td>\n",
       "      <td>CSK</td>\n",
       "    </tr>\n",
       "    <tr>\n",
       "      <th>4</th>\n",
       "      <td>5</td>\n",
       "      <td>WC-1934</td>\n",
       "      <td>1934 FIFA World Cup</td>\n",
       "      <td>A-5</td>\n",
       "      <td>Silver Boot</td>\n",
       "      <td>1</td>\n",
       "      <td>P-08398</td>\n",
       "      <td>Conen</td>\n",
       "      <td>Edmund</td>\n",
       "      <td>T-29</td>\n",
       "      <td>Germany</td>\n",
       "      <td>DEU</td>\n",
       "    </tr>\n",
       "  </tbody>\n",
       "</table>\n",
       "</div>"
      ],
      "text/plain": [
       "   Key ID Tournament Id      Tournament Name Award Id   Award Name  Shared  \\\n",
       "0       1       WC-1930  1930 FIFA World Cup      A-4  Golden Boot       0   \n",
       "1       2       WC-1930  1930 FIFA World Cup      A-5  Silver Boot       0   \n",
       "2       3       WC-1930  1930 FIFA World Cup      A-6  Bronze Boot       0   \n",
       "3       4       WC-1934  1934 FIFA World Cup      A-4  Golden Boot       0   \n",
       "4       5       WC-1934  1934 FIFA World Cup      A-5  Silver Boot       1   \n",
       "\n",
       "  Player Id Family Name  Give Name Team Id       Team Name Team Code  \n",
       "0   P-01708     Stábile  Guillermo    T-03       Argentina       ARG  \n",
       "1   P-06624         Cea      Pedro    T-81         Uruguay       URY  \n",
       "2   P-08936   Patenaude       Bert    T-80   United States       USA  \n",
       "3   P-03976     Nejedlý    Old?ich    T-20  Czechoslovakia       CSK  \n",
       "4   P-08398       Conen     Edmund    T-29         Germany       DEU  "
      ]
     },
     "execution_count": 4,
     "metadata": {},
     "output_type": "execute_result"
    }
   ],
   "source": [
    "##showing starting values\n",
    "df.head()"
   ]
  },
  {
   "cell_type": "code",
   "execution_count": 7,
   "id": "54d9d405",
   "metadata": {},
   "outputs": [
    {
     "data": {
      "text/plain": [
       "Key ID             0\n",
       "Tournament Id      0\n",
       "Tournament Name    0\n",
       "Award Id           0\n",
       "Award Name         0\n",
       "Shared             0\n",
       "Player Id          0\n",
       "Family Name        0\n",
       "Give Name          0\n",
       "Team Id            0\n",
       "Team Name          0\n",
       "Team Code          0\n",
       "dtype: int64"
      ]
     },
     "execution_count": 7,
     "metadata": {},
     "output_type": "execute_result"
    }
   ],
   "source": [
    "df.isnull().sum()\n"
   ]
  },
  {
   "cell_type": "code",
   "execution_count": 8,
   "id": "33bb69b7",
   "metadata": {},
   "outputs": [
    {
     "data": {
      "text/html": [
       "<div>\n",
       "<style scoped>\n",
       "    .dataframe tbody tr th:only-of-type {\n",
       "        vertical-align: middle;\n",
       "    }\n",
       "\n",
       "    .dataframe tbody tr th {\n",
       "        vertical-align: top;\n",
       "    }\n",
       "\n",
       "    .dataframe thead th {\n",
       "        text-align: right;\n",
       "    }\n",
       "</style>\n",
       "<table border=\"1\" class=\"dataframe\">\n",
       "  <thead>\n",
       "    <tr style=\"text-align: right;\">\n",
       "      <th></th>\n",
       "      <th>Key ID</th>\n",
       "      <th>Tournament Id</th>\n",
       "      <th>YEAR</th>\n",
       "      <th>Tournament Name</th>\n",
       "      <th>Award Id</th>\n",
       "      <th>Award Name</th>\n",
       "      <th>Shared</th>\n",
       "      <th>Player Id</th>\n",
       "      <th>Family Name</th>\n",
       "      <th>Give Name</th>\n",
       "      <th>Team Id</th>\n",
       "      <th>Team Name</th>\n",
       "      <th>Team Code</th>\n",
       "    </tr>\n",
       "  </thead>\n",
       "  <tbody>\n",
       "    <tr>\n",
       "      <th>0</th>\n",
       "      <td>1</td>\n",
       "      <td>WC-1930</td>\n",
       "      <td>1930</td>\n",
       "      <td>1930 FIFA World Cup</td>\n",
       "      <td>A-4</td>\n",
       "      <td>Golden Boot</td>\n",
       "      <td>0</td>\n",
       "      <td>P-01708</td>\n",
       "      <td>Stábile</td>\n",
       "      <td>Guillermo</td>\n",
       "      <td>T-03</td>\n",
       "      <td>Argentina</td>\n",
       "      <td>ARG</td>\n",
       "    </tr>\n",
       "    <tr>\n",
       "      <th>1</th>\n",
       "      <td>2</td>\n",
       "      <td>WC-1930</td>\n",
       "      <td>1930</td>\n",
       "      <td>1930 FIFA World Cup</td>\n",
       "      <td>A-5</td>\n",
       "      <td>Silver Boot</td>\n",
       "      <td>0</td>\n",
       "      <td>P-06624</td>\n",
       "      <td>Cea</td>\n",
       "      <td>Pedro</td>\n",
       "      <td>T-81</td>\n",
       "      <td>Uruguay</td>\n",
       "      <td>URY</td>\n",
       "    </tr>\n",
       "    <tr>\n",
       "      <th>2</th>\n",
       "      <td>3</td>\n",
       "      <td>WC-1930</td>\n",
       "      <td>1930</td>\n",
       "      <td>1930 FIFA World Cup</td>\n",
       "      <td>A-6</td>\n",
       "      <td>Bronze Boot</td>\n",
       "      <td>0</td>\n",
       "      <td>P-08936</td>\n",
       "      <td>Patenaude</td>\n",
       "      <td>Bert</td>\n",
       "      <td>T-80</td>\n",
       "      <td>United States</td>\n",
       "      <td>USA</td>\n",
       "    </tr>\n",
       "    <tr>\n",
       "      <th>3</th>\n",
       "      <td>4</td>\n",
       "      <td>WC-1934</td>\n",
       "      <td>1934</td>\n",
       "      <td>1934 FIFA World Cup</td>\n",
       "      <td>A-4</td>\n",
       "      <td>Golden Boot</td>\n",
       "      <td>0</td>\n",
       "      <td>P-03976</td>\n",
       "      <td>Nejedlý</td>\n",
       "      <td>Old?ich</td>\n",
       "      <td>T-20</td>\n",
       "      <td>Czechoslovakia</td>\n",
       "      <td>CSK</td>\n",
       "    </tr>\n",
       "    <tr>\n",
       "      <th>4</th>\n",
       "      <td>5</td>\n",
       "      <td>WC-1934</td>\n",
       "      <td>1934</td>\n",
       "      <td>1934 FIFA World Cup</td>\n",
       "      <td>A-5</td>\n",
       "      <td>Silver Boot</td>\n",
       "      <td>1</td>\n",
       "      <td>P-08398</td>\n",
       "      <td>Conen</td>\n",
       "      <td>Edmund</td>\n",
       "      <td>T-29</td>\n",
       "      <td>Germany</td>\n",
       "      <td>DEU</td>\n",
       "    </tr>\n",
       "  </tbody>\n",
       "</table>\n",
       "</div>"
      ],
      "text/plain": [
       "   Key ID Tournament Id  YEAR      Tournament Name Award Id   Award Name  \\\n",
       "0       1       WC-1930  1930  1930 FIFA World Cup      A-4  Golden Boot   \n",
       "1       2       WC-1930  1930  1930 FIFA World Cup      A-5  Silver Boot   \n",
       "2       3       WC-1930  1930  1930 FIFA World Cup      A-6  Bronze Boot   \n",
       "3       4       WC-1934  1934  1934 FIFA World Cup      A-4  Golden Boot   \n",
       "4       5       WC-1934  1934  1934 FIFA World Cup      A-5  Silver Boot   \n",
       "\n",
       "   Shared Player Id Family Name  Give Name Team Id       Team Name Team Code  \n",
       "0       0   P-01708     Stábile  Guillermo    T-03       Argentina       ARG  \n",
       "1       0   P-06624         Cea      Pedro    T-81         Uruguay       URY  \n",
       "2       0   P-08936   Patenaude       Bert    T-80   United States       USA  \n",
       "3       0   P-03976     Nejedlý    Old?ich    T-20  Czechoslovakia       CSK  \n",
       "4       1   P-08398       Conen     Edmund    T-29         Germany       DEU  "
      ]
     },
     "execution_count": 8,
     "metadata": {},
     "output_type": "execute_result"
    }
   ],
   "source": [
    "#ADDING NEW COLOUMN IN THE TABLE FOR YEAR OF COMPETITION \n",
    "year_l=[]\n",
    "for i in df[\"Tournament Name\"]:\n",
    "    year = int(i[0:4])\n",
    "    year_l.append(year)\n",
    "\n",
    "year_l=np.array(year_l)\n",
    "\n",
    "df.insert(2,'YEAR',year_l)\n",
    "df.head()"
   ]
  },
  {
   "cell_type": "code",
   "execution_count": 9,
   "id": "277e7c7f",
   "metadata": {},
   "outputs": [],
   "source": [
    "df = df.drop(\"Tournament Name\",axis =1)"
   ]
  },
  {
   "cell_type": "code",
   "execution_count": 10,
   "id": "58afb6fc",
   "metadata": {},
   "outputs": [],
   "source": [
    "Name  =[]\n",
    "for i in range(len(df)):\n",
    "    str = df[\"Family Name\"][i]+\" \"+df[\"Give Name\"][i]\n",
    "    Name.append(str)\n",
    "\n",
    "Name = np.array(Name)\n",
    "\n",
    "df.insert(7,'Player Name',Name)"
   ]
  },
  {
   "cell_type": "code",
   "execution_count": 12,
   "id": "b8219ad2",
   "metadata": {},
   "outputs": [
    {
     "data": {
      "text/plain": [
       "(141, 13)"
      ]
     },
     "execution_count": 12,
     "metadata": {},
     "output_type": "execute_result"
    }
   ],
   "source": [
    "df.shape"
   ]
  },
  {
   "cell_type": "code",
   "execution_count": 13,
   "id": "0ba8cc8f",
   "metadata": {},
   "outputs": [
    {
     "data": {
      "text/html": [
       "<div>\n",
       "<style scoped>\n",
       "    .dataframe tbody tr th:only-of-type {\n",
       "        vertical-align: middle;\n",
       "    }\n",
       "\n",
       "    .dataframe tbody tr th {\n",
       "        vertical-align: top;\n",
       "    }\n",
       "\n",
       "    .dataframe thead th {\n",
       "        text-align: right;\n",
       "    }\n",
       "</style>\n",
       "<table border=\"1\" class=\"dataframe\">\n",
       "  <thead>\n",
       "    <tr style=\"text-align: right;\">\n",
       "      <th></th>\n",
       "      <th>Key ID</th>\n",
       "      <th>Tournament Id</th>\n",
       "      <th>YEAR</th>\n",
       "      <th>Award Id</th>\n",
       "      <th>Award Name</th>\n",
       "      <th>Shared</th>\n",
       "      <th>Player Id</th>\n",
       "      <th>Player Name</th>\n",
       "      <th>Family Name</th>\n",
       "      <th>Give Name</th>\n",
       "      <th>Team Id</th>\n",
       "      <th>Team Name</th>\n",
       "      <th>Team Code</th>\n",
       "    </tr>\n",
       "  </thead>\n",
       "  <tbody>\n",
       "    <tr>\n",
       "      <th>0</th>\n",
       "      <td>1</td>\n",
       "      <td>WC-1930</td>\n",
       "      <td>1930</td>\n",
       "      <td>A-4</td>\n",
       "      <td>Golden Boot</td>\n",
       "      <td>0</td>\n",
       "      <td>P-01708</td>\n",
       "      <td>Stábile Guillermo</td>\n",
       "      <td>Stábile</td>\n",
       "      <td>Guillermo</td>\n",
       "      <td>T-03</td>\n",
       "      <td>Argentina</td>\n",
       "      <td>ARG</td>\n",
       "    </tr>\n",
       "    <tr>\n",
       "      <th>1</th>\n",
       "      <td>2</td>\n",
       "      <td>WC-1930</td>\n",
       "      <td>1930</td>\n",
       "      <td>A-5</td>\n",
       "      <td>Silver Boot</td>\n",
       "      <td>0</td>\n",
       "      <td>P-06624</td>\n",
       "      <td>Cea Pedro</td>\n",
       "      <td>Cea</td>\n",
       "      <td>Pedro</td>\n",
       "      <td>T-81</td>\n",
       "      <td>Uruguay</td>\n",
       "      <td>URY</td>\n",
       "    </tr>\n",
       "    <tr>\n",
       "      <th>2</th>\n",
       "      <td>3</td>\n",
       "      <td>WC-1930</td>\n",
       "      <td>1930</td>\n",
       "      <td>A-6</td>\n",
       "      <td>Bronze Boot</td>\n",
       "      <td>0</td>\n",
       "      <td>P-08936</td>\n",
       "      <td>Patenaude Bert</td>\n",
       "      <td>Patenaude</td>\n",
       "      <td>Bert</td>\n",
       "      <td>T-80</td>\n",
       "      <td>United States</td>\n",
       "      <td>USA</td>\n",
       "    </tr>\n",
       "    <tr>\n",
       "      <th>3</th>\n",
       "      <td>4</td>\n",
       "      <td>WC-1934</td>\n",
       "      <td>1934</td>\n",
       "      <td>A-4</td>\n",
       "      <td>Golden Boot</td>\n",
       "      <td>0</td>\n",
       "      <td>P-03976</td>\n",
       "      <td>Nejedlý Old?ich</td>\n",
       "      <td>Nejedlý</td>\n",
       "      <td>Old?ich</td>\n",
       "      <td>T-20</td>\n",
       "      <td>Czechoslovakia</td>\n",
       "      <td>CSK</td>\n",
       "    </tr>\n",
       "    <tr>\n",
       "      <th>4</th>\n",
       "      <td>5</td>\n",
       "      <td>WC-1934</td>\n",
       "      <td>1934</td>\n",
       "      <td>A-5</td>\n",
       "      <td>Silver Boot</td>\n",
       "      <td>1</td>\n",
       "      <td>P-08398</td>\n",
       "      <td>Conen Edmund</td>\n",
       "      <td>Conen</td>\n",
       "      <td>Edmund</td>\n",
       "      <td>T-29</td>\n",
       "      <td>Germany</td>\n",
       "      <td>DEU</td>\n",
       "    </tr>\n",
       "  </tbody>\n",
       "</table>\n",
       "</div>"
      ],
      "text/plain": [
       "   Key ID Tournament Id  YEAR Award Id   Award Name  Shared Player Id  \\\n",
       "0       1       WC-1930  1930      A-4  Golden Boot       0   P-01708   \n",
       "1       2       WC-1930  1930      A-5  Silver Boot       0   P-06624   \n",
       "2       3       WC-1930  1930      A-6  Bronze Boot       0   P-08936   \n",
       "3       4       WC-1934  1934      A-4  Golden Boot       0   P-03976   \n",
       "4       5       WC-1934  1934      A-5  Silver Boot       1   P-08398   \n",
       "\n",
       "         Player Name Family Name  Give Name Team Id       Team Name Team Code  \n",
       "0  Stábile Guillermo     Stábile  Guillermo    T-03       Argentina       ARG  \n",
       "1          Cea Pedro         Cea      Pedro    T-81         Uruguay       URY  \n",
       "2     Patenaude Bert   Patenaude       Bert    T-80   United States       USA  \n",
       "3    Nejedlý Old?ich     Nejedlý    Old?ich    T-20  Czechoslovakia       CSK  \n",
       "4       Conen Edmund       Conen     Edmund    T-29         Germany       DEU  "
      ]
     },
     "execution_count": 13,
     "metadata": {},
     "output_type": "execute_result"
    }
   ],
   "source": [
    "df.head()"
   ]
  },
  {
   "cell_type": "code",
   "execution_count": 14,
   "id": "12173213",
   "metadata": {},
   "outputs": [],
   "source": [
    "df=df.drop({\"Give Name\",\"Family Name\"},axis =1)"
   ]
  },
  {
   "cell_type": "code",
   "execution_count": 15,
   "id": "0eb98ddf",
   "metadata": {},
   "outputs": [
    {
     "data": {
      "text/html": [
       "<div>\n",
       "<style scoped>\n",
       "    .dataframe tbody tr th:only-of-type {\n",
       "        vertical-align: middle;\n",
       "    }\n",
       "\n",
       "    .dataframe tbody tr th {\n",
       "        vertical-align: top;\n",
       "    }\n",
       "\n",
       "    .dataframe thead th {\n",
       "        text-align: right;\n",
       "    }\n",
       "</style>\n",
       "<table border=\"1\" class=\"dataframe\">\n",
       "  <thead>\n",
       "    <tr style=\"text-align: right;\">\n",
       "      <th></th>\n",
       "      <th>Key ID</th>\n",
       "      <th>Tournament Id</th>\n",
       "      <th>YEAR</th>\n",
       "      <th>Award Id</th>\n",
       "      <th>Award Name</th>\n",
       "      <th>Shared</th>\n",
       "      <th>Player Id</th>\n",
       "      <th>Player Name</th>\n",
       "      <th>Team Id</th>\n",
       "      <th>Team Name</th>\n",
       "      <th>Team Code</th>\n",
       "    </tr>\n",
       "  </thead>\n",
       "  <tbody>\n",
       "    <tr>\n",
       "      <th>0</th>\n",
       "      <td>1</td>\n",
       "      <td>WC-1930</td>\n",
       "      <td>1930</td>\n",
       "      <td>A-4</td>\n",
       "      <td>Golden Boot</td>\n",
       "      <td>0</td>\n",
       "      <td>P-01708</td>\n",
       "      <td>Stábile Guillermo</td>\n",
       "      <td>T-03</td>\n",
       "      <td>Argentina</td>\n",
       "      <td>ARG</td>\n",
       "    </tr>\n",
       "    <tr>\n",
       "      <th>1</th>\n",
       "      <td>2</td>\n",
       "      <td>WC-1930</td>\n",
       "      <td>1930</td>\n",
       "      <td>A-5</td>\n",
       "      <td>Silver Boot</td>\n",
       "      <td>0</td>\n",
       "      <td>P-06624</td>\n",
       "      <td>Cea Pedro</td>\n",
       "      <td>T-81</td>\n",
       "      <td>Uruguay</td>\n",
       "      <td>URY</td>\n",
       "    </tr>\n",
       "    <tr>\n",
       "      <th>2</th>\n",
       "      <td>3</td>\n",
       "      <td>WC-1930</td>\n",
       "      <td>1930</td>\n",
       "      <td>A-6</td>\n",
       "      <td>Bronze Boot</td>\n",
       "      <td>0</td>\n",
       "      <td>P-08936</td>\n",
       "      <td>Patenaude Bert</td>\n",
       "      <td>T-80</td>\n",
       "      <td>United States</td>\n",
       "      <td>USA</td>\n",
       "    </tr>\n",
       "    <tr>\n",
       "      <th>3</th>\n",
       "      <td>4</td>\n",
       "      <td>WC-1934</td>\n",
       "      <td>1934</td>\n",
       "      <td>A-4</td>\n",
       "      <td>Golden Boot</td>\n",
       "      <td>0</td>\n",
       "      <td>P-03976</td>\n",
       "      <td>Nejedlý Old?ich</td>\n",
       "      <td>T-20</td>\n",
       "      <td>Czechoslovakia</td>\n",
       "      <td>CSK</td>\n",
       "    </tr>\n",
       "    <tr>\n",
       "      <th>4</th>\n",
       "      <td>5</td>\n",
       "      <td>WC-1934</td>\n",
       "      <td>1934</td>\n",
       "      <td>A-5</td>\n",
       "      <td>Silver Boot</td>\n",
       "      <td>1</td>\n",
       "      <td>P-08398</td>\n",
       "      <td>Conen Edmund</td>\n",
       "      <td>T-29</td>\n",
       "      <td>Germany</td>\n",
       "      <td>DEU</td>\n",
       "    </tr>\n",
       "  </tbody>\n",
       "</table>\n",
       "</div>"
      ],
      "text/plain": [
       "   Key ID Tournament Id  YEAR Award Id   Award Name  Shared Player Id  \\\n",
       "0       1       WC-1930  1930      A-4  Golden Boot       0   P-01708   \n",
       "1       2       WC-1930  1930      A-5  Silver Boot       0   P-06624   \n",
       "2       3       WC-1930  1930      A-6  Bronze Boot       0   P-08936   \n",
       "3       4       WC-1934  1934      A-4  Golden Boot       0   P-03976   \n",
       "4       5       WC-1934  1934      A-5  Silver Boot       1   P-08398   \n",
       "\n",
       "         Player Name Team Id       Team Name Team Code  \n",
       "0  Stábile Guillermo    T-03       Argentina       ARG  \n",
       "1          Cea Pedro    T-81         Uruguay       URY  \n",
       "2     Patenaude Bert    T-80   United States       USA  \n",
       "3    Nejedlý Old?ich    T-20  Czechoslovakia       CSK  \n",
       "4       Conen Edmund    T-29         Germany       DEU  "
      ]
     },
     "execution_count": 15,
     "metadata": {},
     "output_type": "execute_result"
    }
   ],
   "source": [
    "df.head()"
   ]
  },
  {
   "cell_type": "code",
   "execution_count": 16,
   "id": "a447883c",
   "metadata": {},
   "outputs": [
    {
     "ename": "NameError",
     "evalue": "name 'watch' is not defined",
     "output_type": "error",
     "traceback": [
      "\u001b[1;31m---------------------------------------------------------------------------\u001b[0m",
      "\u001b[1;31mNameError\u001b[0m                                 Traceback (most recent call last)",
      "\u001b[1;32m~\\AppData\\Local\\Temp/ipykernel_21476/1760401442.py\u001b[0m in \u001b[0;36m<module>\u001b[1;34m\u001b[0m\n\u001b[1;32m----> 1\u001b[1;33m \u001b[0mwatch\u001b[0m\u001b[1;33m.\u001b[0m\u001b[0minfo\u001b[0m\u001b[1;33m(\u001b[0m\u001b[1;33m)\u001b[0m\u001b[1;33m\u001b[0m\u001b[1;33m\u001b[0m\u001b[0m\n\u001b[0m",
      "\u001b[1;31mNameError\u001b[0m: name 'watch' is not defined"
     ]
    }
   ],
   "source": [
    "watch.info()"
   ]
  },
  {
   "cell_type": "code",
   "execution_count": 18,
   "id": "25783df1",
   "metadata": {},
   "outputs": [
    {
     "data": {
      "text/plain": [
       "array(['Golden Boot', 'Silver Boot', 'Bronze Boot', 'Best Young Player',\n",
       "       'Golden Ball', 'Silver Ball', 'Bronze Ball', 'Golden Glove'],\n",
       "      dtype=object)"
      ]
     },
     "execution_count": 18,
     "metadata": {},
     "output_type": "execute_result"
    }
   ],
   "source": [
    "#ANALYSING THE DATA\n",
    "\n",
    "df[\"Award Name\"].unique()\n"
   ]
  },
  {
   "cell_type": "code",
   "execution_count": 19,
   "id": "77d82416",
   "metadata": {},
   "outputs": [],
   "source": [
    "##seeing top 10 player who won max number of awards\n",
    "pl= df.groupby(\"Player Name\").size().sort_values(ascending = False).head(10)"
   ]
  },
  {
   "cell_type": "code",
   "execution_count": 20,
   "id": "6e1d577b",
   "metadata": {},
   "outputs": [
    {
     "data": {
      "text/plain": [
       "<bound method NDFrame.head of Player Name\n",
       "Müller Thomas             4\n",
       "Ronaldo not applicable    4\n",
       "Maradona Diego            3\n",
       "Rossi Paolo               3\n",
       "Cubillas Teófilo          3\n",
       "Mbappé Kylian             3\n",
       "Messi Lionel              3\n",
       "Lineker Gary              2\n",
       "Klose Miroslav            2\n",
       "Schillaci Salvatore       2\n",
       "dtype: int64>"
      ]
     },
     "execution_count": 20,
     "metadata": {},
     "output_type": "execute_result"
    }
   ],
   "source": [
    "pl.head"
   ]
  },
  {
   "cell_type": "code",
   "execution_count": 21,
   "id": "89a73abb",
   "metadata": {},
   "outputs": [
    {
     "data": {
      "text/plain": [
       "<AxesSubplot:title={'center':'Player with highest award'}, xlabel='Player Name', ylabel='No. of awards'>"
      ]
     },
     "execution_count": 21,
     "metadata": {},
     "output_type": "execute_result"
    },
    {
     "data": {
      "image/png": "[encoded data removed]",
      "text/plain": [
       "<Figure size 432x288 with 1 Axes>"
      ]
     },
     "metadata": {
      "needs_background": "light"
     },
     "output_type": "display_data"
    }
   ],
   "source": [
    "pl.plot(kind=\"bar\",title=\"Player with highest award\",ylabel =\"No. of awards\")"
   ]
  },
  {
   "cell_type": "code",
   "execution_count": 22,
   "id": "234345d3",
   "metadata": {},
   "outputs": [
    {
     "data": {
      "text/plain": [
       "<AxesSubplot:title={'center':'Country wise awards'}, xlabel='Team Name', ylabel='No. of awards'>"
      ]
     },
     "execution_count": 22,
     "metadata": {},
     "output_type": "execute_result"
    },
    {
     "data": {
      "image/png": "[encoded data removed]",
      "text/plain": [
       "<Figure size 432x288 with 1 Axes>"
      ]
     },
     "metadata": {
      "needs_background": "light"
     },
     "output_type": "display_data"
    }
   ],
   "source": [
    "## CHECKING WHICH COUNTRY WON AWARD MAXIMUM NUMBER OF TIME\n",
    "\n",
    "df.groupby(\"Team Name\").size().sort_values(ascending = False).head(10).plot(kind = \"bar\",title =\"Country wise awards\",ylabel=\"No. of awards\")"
   ]
  },
  {
   "cell_type": "code",
   "execution_count": null,
   "id": "f3036f84",
   "metadata": {},
   "outputs": [],
   "source": []
  }
 ],
 "metadata": {
  "kernelspec": {
   "display_name": "Python 3 (ipykernel)",
   "language": "python",
   "name": "python3"
  },
  "language_info": {
   "codemirror_mode": {
    "name": "ipython",
    "version": 3
   },
   "file_extension": ".py",
   "mimetype": "text/x-python",
   "name": "python",
   "nbconvert_exporter": "python",
   "pygments_lexer": "ipython3",
   "version": "3.8.8"
  }
 },
 "nbformat": 4,
 "nbformat_minor": 5
}
